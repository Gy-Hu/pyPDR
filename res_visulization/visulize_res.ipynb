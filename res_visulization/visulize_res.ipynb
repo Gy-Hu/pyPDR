{
 "cells": [
  {
   "cell_type": "code",
   "execution_count": null,
   "metadata": {
    "vscode": {
     "languageId": "r"
    }
   },
   "outputs": [],
   "source": [
    "# Load necessary libraries\n",
    "library(ggplot2)\n",
    "library(dplyr)\n",
    "library(readr) # for read_csv, which is similar to read.csv but faster and with additional features\n",
    "\n",
    "# Define the file paths\n",
    "file_path1 <- '../logs/report_down.csv'\n",
    "file_path2 <- '../logs/report_down_innards.csv'\n",
    "\n",
    "# Read the CSV files\n",
    "data1 <- read_csv(file_path1)\n",
    "data2 <- read_csv(file_path2)\n",
    "\n",
    "# Add an identifier for each report\n",
    "data1$Report <- 'pyPDR with ctgDown'\n",
    "data2$Report <- 'pyPDR'\n",
    "\n",
    "# Combine the two datasets\n",
    "combined_data <- rbind(data1, data2)\n",
    "\n",
    "# Filter out rows where Result is \"Error\" and \"Timeout\"\n",
    "filtered_combined_data <- combined_data %>%\n",
    "  filter(Result != \"Error\" & Result != \"Timeout\")\n",
    "\n",
    "# Create a new data frame with unique time thresholds, cumulative counts, and distinguishing by Report\n",
    "threshold_combined_data <- filtered_combined_data %>%\n",
    "  arrange(Report, Runtime) %>%\n",
    "  group_by(Report) %>%\n",
    "  mutate(CumulativeCount = 1:n()) %>%\n",
    "  distinct(Report, Runtime, .keep_all = TRUE) %>%\n",
    "  ungroup() # To make sure the next operations are applied to the whole dataset\n",
    "\n",
    "# Create a plot\n",
    "plot <- ggplot(threshold_combined_data, aes(x = CumulativeCount, y = Runtime, color = Report)) +\n",
    "  geom_line(size = 1) +\n",
    "  geom_point(size = 2) +\n",
    "  labs(title = \"Result Comparison\",\n",
    "       x = \"Solved\",\n",
    "       y = \"Time\",\n",
    "       color = \"Report Source\") +\n",
    "  theme_minimal() +\n",
    "  theme(\n",
    "    plot.title = element_text(hjust = 0.5),\n",
    "    panel.grid.major = element_blank(),\n",
    "    panel.grid.minor = element_blank(),\n",
    "    panel.border = element_blank(),\n",
    "    axis.line = element_line(colour = \"black\"),\n",
    "    legend.position = \"bottom\"\n",
    "  ) +\n",
    "  scale_y_continuous(limits = c(0, max(threshold_combined_data$Runtime) * 1.1))\n",
    "\n",
    "# Display the plot\n",
    "print(plot)"
   ]
  },
  {
   "cell_type": "code",
   "execution_count": null,
   "metadata": {
    "vscode": {
     "languageId": "r"
    }
   },
   "outputs": [],
   "source": [
    "# Install and load required libraries\n",
    "#install.packages(\"ggplot2\")\n",
    "library(ggplot2)\n",
    "\n",
    "# Read in the CSV files\n",
    "df1 <- read.csv(\"../logs/report_down.csv\")\n",
    "df2 <- read.csv(\"../logs/report_down_innards.csv\")\n",
    "\n",
    "# Merge the data frames on the 'Case' column\n",
    "merged_df <- merge(df1, df2, by = \"Case\", suffixes = c(\"_x\", \"_y\"))\n",
    "\n",
    "# Filter the merged data frame\n",
    "filtered_df <- subset(merged_df, (Result_x == \"FOUND INV\" | Result_x == \"FOUND TRACE\") &\n",
    "                                 (Result_y == \"FOUND INV\" | Result_y == \"FOUND TRACE\") &\n",
    "                                 (Result_x == Result_y))\n",
    "\n",
    "# print the filtered data frame\n",
    "print(filtered_df)\n",
    "# Create the scatter plot using ggplot2\n",
    "scatter_plot <- ggplot(filtered_df, aes(x = Runtime_x, y = Runtime_y, color = Result_x)) +\n",
    "  geom_point(shape = 4, size = 3) +  # Use 'x' marker\n",
    "  scale_x_continuous(trans = \"log10\", limits = c(0.01, 10000),\n",
    "                     labels = function(x) format(x, scientific = FALSE)) +\n",
    "  scale_y_continuous(trans = \"log10\", limits = c(0.01, 10000),\n",
    "                     labels = function(x) format(x, scientific = FALSE)) +\n",
    "  geom_abline(intercept = 0, slope = 1, linetype = \"dashed\") +  # Add diagonal line\n",
    "  labs(x = \"pyPDR: CPU time (s)\", y = \"pyPDR with ctgDown: CPU time (s)\",\n",
    "       title = \"pyPDR Scatter Plot\") +\n",
    "  scale_color_manual(values = c(\"FOUND INV\" = \"blue\", \"FOUND TRACE\" = \"red\")) +  # Set color based on Result_x\n",
    "  theme_minimal() +\n",
    "  theme(plot.title = element_text(hjust = 0.5),\n",
    "        legend.title = element_blank())  # Remove legend title\n",
    "\n",
    "# Display the plot\n",
    "print(scatter_plot)"
   ]
  },
  {
   "cell_type": "code",
   "execution_count": null,
   "metadata": {
    "vscode": {
     "languageId": "r"
    }
   },
   "outputs": [],
   "source": [
    "library(readr)\n",
    "library(dplyr)\n",
    "library(tidyr)\n",
    "\n",
    "# Load raw input by reading the CSV file\n",
    "raw_input <- read_lines(\"../logs/pdr_log_2024-06-02-22:15:53.csv\")\n",
    "\n",
    "# Split the raw input into lines if raw_input isn't already a character vector with one line per entry\n",
    "lines <- unlist(strsplit(raw_input, \"\\n\"))\n",
    "\n",
    "# Split each line into its components and transform to a data frame\n",
    "entries_list <- lapply(lines, function(line) {\n",
    "  components <- unlist(strsplit(line, \",\"))\n",
    "  # This assumes that the first component is the timestamp and is always present\n",
    "  data.frame(time = components[1], metric = components[2], value = components[3], stringsAsFactors = FALSE)\n",
    "})\n",
    "\n",
    "# Combine the data frames vertically\n",
    "entries_df <- bind_rows(entries_list)\n",
    "\n",
    "# Spread the metrics into separate columns, grouped by the first column (time)\n",
    "entries_wide <- entries_df %>%\n",
    "  group_by(time) %>%\n",
    "  pivot_wider(names_from = metric, values_from = value, values_fn = list(value = function(x) x[1]))\n",
    "\n",
    "# Export the data frame to a new CSV file\n",
    "write_csv(entries_wide, file = \"../logs/pdr_log_2024-06-02-22:15:53_processed.csv\")"
   ]
  }
 ],
 "metadata": {
  "kernelspec": {
   "display_name": "R",
   "language": "R",
   "name": "ir"
  },
  "language_info": {
   "codemirror_mode": "r",
   "file_extension": ".r",
   "mimetype": "text/x-r-source",
   "name": "R",
   "pygments_lexer": "r",
   "version": "4.2.0"
  }
 },
 "nbformat": 4,
 "nbformat_minor": 2
}
